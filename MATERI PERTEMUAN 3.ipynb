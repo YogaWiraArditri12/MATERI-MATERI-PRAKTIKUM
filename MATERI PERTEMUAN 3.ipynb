{
 "cells": [
  {
   "cell_type": "markdown",
   "metadata": {},
   "source": [
    " #   PERTEMUAN 3\n",
    " "
   ]
  },
  {
   "cell_type": "code",
   "execution_count": 3,
   "metadata": {},
   "outputs": [
    {
     "name": "stdout",
     "output_type": "stream",
     "text": [
      "hello, yoga\n",
      "umur anda:  19\n",
      "ipk anda:  3.5\n"
     ]
    }
   ],
   "source": [
    "# CONTOH INPUT STRING\n",
    "nama = input(\"masukkan nama anda: \")\n",
    "print(\"hello,\", nama)\n",
    "\n",
    "# CONTOH INPUT INTEGER\n",
    "umur = int(input(\"masukkan umur: \"))\n",
    "print(\"umur anda: \", umur)\n",
    "\n",
    "# CONTOH INPUT FLOAT \n",
    "ipk = float(input(\"masukkan ipk: \"))\n",
    "print(\"ipk anda: \", ipk)\n"
   ]
  },
  {
   "cell_type": "markdown",
   "metadata": {},
   "source": [
    "# CONTOH INPUT YANG DIMASUKKAN SPASI"
   ]
  },
  {
   "cell_type": "code",
   "execution_count": 15,
   "metadata": {},
   "outputs": [
    {
     "name": "stdout",
     "output_type": "stream",
     "text": [
      "bilangan pertama:  20\n",
      "bilangan kedua:  25\n"
     ]
    }
   ],
   "source": [
    "bil = input(\"masukkan dua bilangan bulat dipisahkan nilai spasi: \")\n",
    "# MEMBAGI VARIABEL BIL MENJADI VARIABEL BIL1 DAN BIL2\n",
    "bil1, bil2, = map(int, bil.split())\n",
    "print(\"bilangan pertama: \", bil1)\n",
    "print(\"bilangan kedua: \", bil2)"
   ]
  },
  {
   "cell_type": "markdown",
   "metadata": {},
   "source": [
    "# MACAM MACAM OUTPUT PADA PHTHON"
   ]
  },
  {
   "cell_type": "code",
   "execution_count": 22,
   "metadata": {},
   "outputs": [
    {
     "name": "stdout",
     "output_type": "stream",
     "text": [
      "hallo yoga umur anda 19 ipk anda 3.5\n",
      "hallo yoga, umur anda: 19 ipk anda 3.5\n",
      "hallo yoga, umur anda: 19, ipk anda: 3.5\n",
      "hallo yoga, umur anda: 19, ipk anda: 3.5\n"
     ]
    }
   ],
   "source": [
    "print(\"hallo\", nama, \"umur anda\", umur, \"ipk anda\", ipk)\n",
    "\n",
    "print(\"hallo \"+ nama+ \", umur anda:\", umur, \"ipk anda\", ipk)\n",
    "\n",
    "print(\"hallo %s, umur anda: %i, ipk anda: %.1f\" % (nama, umur, ipk))\n",
    "\n",
    "print(f\"hallo {nama}, umur anda: {umur}, ipk anda: {ipk}\")\n"
   ]
  },
  {
   "cell_type": "markdown",
   "metadata": {},
   "source": [
    "# STRUKTUR RUNTUNAN\n",
    "\n",
    "# CONTOH MENGHITUNG  LUAS DAN KELILING LINGKARAN"
   ]
  },
  {
   "cell_type": "code",
   "execution_count": 24,
   "metadata": {},
   "outputs": [
    {
     "name": "stdout",
     "output_type": "stream",
     "text": [
      "pi = 3.14\n",
      "jari-jari = 9999\n",
      "luas lingkaran = 314222860.29\n"
     ]
    }
   ],
   "source": [
    "# input\n",
    "pi = 22/7\n",
    "r = int(input(\"jari-jari = \"))\n",
    "\n",
    "# PROSES MENGHITUNG LUAS LINGKARAN \n",
    "luas = pi * r * r \n",
    "\n",
    "#OUTPUT LUAS LINGKARAN\n",
    "print(\"pi = %.2f\" %pi)\n",
    "print(\"jari-jari =\", r)\n",
    "print(\"luas lingkaran = %.2f\" %(luas))\n"
   ]
  },
  {
   "cell_type": "code",
   "execution_count": null,
   "metadata": {},
   "outputs": [],
   "source": [
    "# PROSES MENGHITUNG KELILING LINGKARAN\n",
    "keliling = "
   ]
  }
 ],
 "metadata": {
  "kernelspec": {
   "display_name": "Python 3",
   "language": "python",
   "name": "python3"
  },
  "language_info": {
   "codemirror_mode": {
    "name": "ipython",
    "version": 3
   },
   "file_extension": ".py",
   "mimetype": "text/x-python",
   "name": "python",
   "nbconvert_exporter": "python",
   "pygments_lexer": "ipython3",
   "version": "3.12.2"
  }
 },
 "nbformat": 4,
 "nbformat_minor": 2
}
