{
 "cells": [
  {
   "cell_type": "markdown",
   "metadata": {},
   "source": [
    "# KONSTRUSI IF THEN "
   ]
  },
  {
   "cell_type": "code",
   "execution_count": 1,
   "metadata": {},
   "outputs": [
    {
     "name": "stdout",
     "output_type": "stream",
     "text": [
      "(angka) adalah bilangan genap\n"
     ]
    }
   ],
   "source": [
    "angka = int(input(\"masukkan angka\"))\n",
    "\n",
    "if angka % 2 == 0:\n",
    "    print(f\"(angka) adalah bilangan genap\")\n",
    "    "
   ]
  },
  {
   "cell_type": "markdown",
   "metadata": {},
   "source": [
    "# KONSTRUKSI IF THEN ELSE"
   ]
  },
  {
   "cell_type": "code",
   "execution_count": 7,
   "metadata": {},
   "outputs": [
    {
     "name": "stdout",
     "output_type": "stream",
     "text": [
      "2002 bukan tahun kabisat\n"
     ]
    }
   ],
   "source": [
    "tahun = int(input(\"masukkan tabel\"))\n",
    "\n",
    "if (tahun % 4 == 0 and tahun % 100 != 0) or (tahun % 400 == 0):\n",
    "    print(f\"{tahun} adalah tahun kabisat\")\n",
    "else:\n",
    "    print(f\"{tahun} bukan tahun kabisat\")\n",
    "    "
   ]
  },
  {
   "cell_type": "code",
   "execution_count": 10,
   "metadata": {},
   "outputs": [
    {
     "name": "stdout",
     "output_type": "stream",
     "text": [
      "2205 bukan tahun kambisat\n"
     ]
    }
   ],
   "source": [
    "tahun = int(input(\"masukkan tahun\"))\n",
    "\n",
    "match tahun:\n",
    "    case int if (tahun % 4 == 0 and tahun % 100 !=0) | (tahun % 400 == 0):\n",
    "        print(f\"{tahun} adalah tahun kambisat\")\n",
    "    case _:\n",
    "        print(f\"{tahun} bukan tahun kambisat\")    "
   ]
  },
  {
   "cell_type": "markdown",
   "metadata": {},
   "source": [
    "# KONSTRUKSI ELIF"
   ]
  },
  {
   "cell_type": "code",
   "execution_count": 2,
   "metadata": {},
   "outputs": [
    {
     "name": "stdout",
     "output_type": "stream",
     "text": [
      "9 * 9 = 81\n"
     ]
    }
   ],
   "source": [
    "bil1 = int(input(\"masukkan angka ke 1\"))\n",
    "bil2 = int(input(\"masukkan angka ke 2\"))\n",
    "operator  = input(\"masukkan operasi yang diinginkan (+, -, *, /)\")\n",
    "\n",
    "if operator == \"+\":\n",
    "    hasil = bil1 + bil2 \n",
    "    print(f\"{bil1} + {bil2} = {hasil}\")\n",
    "elif operator == \"-\":\n",
    "    hasil = bil1 - bil2 \n",
    "    print(f\"{bil1} - {bil2} = {hasil}\")\n",
    "elif operator == \"*\":\n",
    "    hasil = bil1 * bil2\n",
    "    print(f\"{bil1} * {bil2} = {hasil}\")\n",
    "elif operator == \"/\":\n",
    "    hasil = bil1 / bil2\n",
    "    print(f\"{bil1} / {bil2} = {hasil}\")\n",
    "else:\n",
    "    print(\"operator tidak tersedia\")\n"
   ]
  },
  {
   "cell_type": "code",
   "execution_count": null,
   "metadata": {},
   "outputs": [],
   "source": []
  },
  {
   "cell_type": "code",
   "execution_count": null,
   "metadata": {},
   "outputs": [],
   "source": []
  }
 ],
 "metadata": {
  "kernelspec": {
   "display_name": "Python 3",
   "language": "python",
   "name": "python3"
  },
  "language_info": {
   "codemirror_mode": {
    "name": "ipython",
    "version": 3
   },
   "file_extension": ".py",
   "mimetype": "text/x-python",
   "name": "python",
   "nbconvert_exporter": "python",
   "pygments_lexer": "ipython3",
   "version": "3.12.2"
  }
 },
 "nbformat": 4,
 "nbformat_minor": 2
}
